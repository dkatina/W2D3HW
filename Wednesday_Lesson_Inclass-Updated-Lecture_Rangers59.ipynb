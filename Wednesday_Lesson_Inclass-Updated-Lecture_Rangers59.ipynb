{
 "cells": [
  {
   "cell_type": "markdown",
   "metadata": {},
   "source": [
    "# Data Collections 2 (Dictionaries, Sets) and Importing Modules"
   ]
  },
  {
   "cell_type": "markdown",
   "metadata": {},
   "source": [
    "## Tasks Today:\n",
    "\n",
    "1) Dictionary <br>\n",
    " &nbsp;&nbsp;&nbsp;&nbsp; a) Declaring (key, value) <br>\n",
    " &nbsp;&nbsp;&nbsp;&nbsp; b) Accessing Values <br>\n",
    " &nbsp;&nbsp;&nbsp;&nbsp; ------ Exercise #1 - Print the eye color of each person in a double nested dict <br>\n",
    " &nbsp;&nbsp;&nbsp;&nbsp; c) Adding New Pairs <br>\n",
    " &nbsp;&nbsp;&nbsp;&nbsp; d) Modifying Values <br>\n",
    " &nbsp;&nbsp;&nbsp;&nbsp; e) Removing Key, Value Pairs <br>\n",
    " &nbsp;&nbsp;&nbsp;&nbsp; f) Looping a Dictionary <br>\n",
    " &nbsp;&nbsp;&nbsp;&nbsp; g) Looping Only Keys <br>\n",
    " &nbsp;&nbsp;&nbsp;&nbsp; h) Looping Only Values <br>\n",
    " &nbsp;&nbsp;&nbsp;&nbsp; ------ Exercise #2 - Create a Function that Prints All Key Value Pairs within a print .format()  <br>\n",
    " &nbsp;&nbsp;&nbsp;&nbsp; i) sorted() <br>\n",
    " &nbsp;&nbsp;&nbsp;&nbsp; j) Lists with Dictionaries <br>\n",
    " &nbsp;&nbsp;&nbsp;&nbsp; k) Dictionaries with Lists <br>\n",
    " &nbsp;&nbsp;&nbsp;&nbsp; l) Dictionaries with Dictionaries <br>\n",
    " &nbsp;&nbsp;&nbsp;&nbsp; ------ Exercise #3 - Write a Function that asks someone's name and address, and then stores that into a dictionary, which prints all names and addresses after they're done putting information in...  <br>\n",
    "2) Dictionaries vs. Lists (over time)<br>\n",
    "3) Set <br>\n",
    " &nbsp;&nbsp;&nbsp;&nbsp; a) Declaring <br>\n",
    " &nbsp;&nbsp;&nbsp;&nbsp; b) .add() <br>\n",
    " &nbsp;&nbsp;&nbsp;&nbsp; c) .remove() <br>\n",
    " &nbsp;&nbsp;&nbsp;&nbsp; d) .union() <br>\n",
    " &nbsp;&nbsp;&nbsp;&nbsp; e) .intersection() <br>\n",
    " &nbsp;&nbsp;&nbsp;&nbsp; f) .difference() <br>\n",
    " &nbsp;&nbsp;&nbsp;&nbsp; g) Frozen Set <br>\n",
    "4) Modules <br>\n",
    " &nbsp;&nbsp;&nbsp;&nbsp; a) Importing Entire Modules <br>\n",
    " &nbsp;&nbsp;&nbsp;&nbsp; b) Importing Methods Only <br>\n",
    " &nbsp;&nbsp;&nbsp;&nbsp; c) Using the 'as' Keyword <br>\n",
    " &nbsp;&nbsp;&nbsp;&nbsp; d) Creating a Module <br>\n",
    "5) Exercises <br>\n",
    " &nbsp;&nbsp;&nbsp;&nbsp; a) Build a Shopping Cart <br>\n",
    " &nbsp;&nbsp;&nbsp;&nbsp; b) Create Your Own Module <br>"
   ]
  },
  {
   "cell_type": "markdown",
   "metadata": {},
   "source": [
    "## Dictionary <br>\n",
    "<p>A collection of data with 'key:value' pairs. Dictionaries are ordered as of Python 3.6</p>"
   ]
  },
  {
   "cell_type": "markdown",
   "metadata": {},
   "source": [
    "##### Declaring (key, value)"
   ]
  },
  {
   "cell_type": "code",
   "execution_count": 1,
   "metadata": {},
   "outputs": [
    {
     "ename": "SyntaxError",
     "evalue": "invalid syntax (2440950069.py, line 1)",
     "output_type": "error",
     "traceback": [
      "\u001b[1;36m  Input \u001b[1;32mIn [1]\u001b[1;36m\u001b[0m\n\u001b[1;33m    profile:\u001b[0m\n\u001b[1;37m            ^\u001b[0m\n\u001b[1;31mSyntaxError\u001b[0m\u001b[1;31m:\u001b[0m invalid syntax\n"
     ]
    }
   ],
   "source": [
    "profile:\n",
    "#     key      = value\n",
    "    first_name = dylan\n",
    "    last_name = katina\n",
    "    Email = dylankatina@gmail.com\n",
    "    "
   ]
  },
  {
   "cell_type": "code",
   "execution_count": null,
   "metadata": {},
   "outputs": [],
   "source": [
    "d= dict()\n",
    "print(type(d))\n",
    "d = {}\n",
    "print(type(d))"
   ]
  },
  {
   "cell_type": "markdown",
   "metadata": {},
   "source": [
    "##### Accessing Values"
   ]
  },
  {
   "cell_type": "code",
   "execution_count": null,
   "metadata": {},
   "outputs": [],
   "source": [
    "d1 = {\n",
    "    'key': 'value',\n",
    "    'name': 'Dylan',\n",
    "     123: 'integer',\n",
    "    \n",
    "}\n",
    "\n",
    "\n",
    "\n",
    "print(d1)\n",
    "#Keys have to be hashable\n",
    "#Values can be anything"
   ]
  },
  {
   "cell_type": "code",
   "execution_count": null,
   "metadata": {},
   "outputs": [],
   "source": [
    "ds = {\n",
    "    'first': 'Dylan',\n",
    "    'last': 'Smith',\n",
    "    'Number of Showerd this year': 2,\n",
    "    'taste_in_music': 'bad',\n",
    "    'states_seen': 45,\n",
    "    \n",
    "}\n",
    "\n",
    "\n",
    "print(ds['first'])\n",
    "print(type(ds['first']))\n",
    "\n",
    "print(type(ds['states_seen']))\n"
   ]
  },
  {
   "cell_type": "markdown",
   "metadata": {},
   "source": [
    "### Hashable\n"
   ]
  },
  {
   "cell_type": "code",
   "execution_count": null,
   "metadata": {},
   "outputs": [],
   "source": [
    "# strings\n",
    "# ints\n",
    "# floats\n",
    "# Tuplr\n",
    "# None"
   ]
  },
  {
   "cell_type": "markdown",
   "metadata": {},
   "source": [
    "## In-Class Exercise #1 - Print a formatted statement from the dictionary below <br>\n",
    "<p>The output should be '2018 Chevrolet Silverado'</p>"
   ]
  },
  {
   "cell_type": "code",
   "execution_count": null,
   "metadata": {},
   "outputs": [],
   "source": [
    "# use the dict below\n",
    "truck = {\n",
    "    'year': 2018,\n",
    "    'make': 'Chevrolet',\n",
    "    'model': 'Silverado'\n",
    "}\n",
    "\n",
    "print(f\"{truck['year']} {truck['make']} {truck['model']} SUCKS A**\")\n"
   ]
  },
  {
   "cell_type": "markdown",
   "metadata": {},
   "source": [
    "##### .get()\n"
   ]
  },
  {
   "cell_type": "code",
   "execution_count": null,
   "metadata": {},
   "outputs": [],
   "source": [
    "#Slower than bracket notation\n",
    "\n",
    "ds = {\n",
    "    'first': 'Dylan',\n",
    "    'last': 'Smith',\n",
    "    'Number of Showerd this year': 2,\n",
    "    'taste_in_music': 'bad',\n",
    "    'states_seen': 45,\n",
    "    \n",
    "}\n",
    "\n",
    "# ds[\"age\"] gives error because there is no keyy named \"age\"\n",
    "\n",
    "print(ds.get(\"age\", 21))"
   ]
  },
  {
   "cell_type": "markdown",
   "metadata": {},
   "source": [
    "##### Adding New Pairs"
   ]
  },
  {
   "cell_type": "code",
   "execution_count": null,
   "metadata": {},
   "outputs": [],
   "source": [
    "ds = {\n",
    "    'first': 'Dylan',\n",
    "    'last': 'Smith',\n",
    "    'Number of Showerd this year': 2,\n",
    "    'taste_in_music': 'bad',\n",
    "    'states_seen': 45,\n",
    "    \n",
    "}\n",
    "\n",
    "ds['age'] = 29\n",
    "print(ds)\n",
    "\n",
    "dog = 'Rhia'\n",
    "ds[dog] = 'Pitty'\n",
    "\n",
    "print(ds)"
   ]
  },
  {
   "cell_type": "markdown",
   "metadata": {},
   "source": [
    "##### Modifying Values"
   ]
  },
  {
   "cell_type": "code",
   "execution_count": 11,
   "metadata": {},
   "outputs": [
    {
     "name": "stdout",
     "output_type": "stream",
     "text": [
      "{'first': 'Dylan', 'last': 'Smith', 'Number of Showerd this year': 2, 'taste_in_music': 'bad', 'states_seen': 45, 'age': 29}\n",
      "{'first': 'Dylan', 'last': 'Smith', 'Number of Showerd this year': 2, 'taste_in_music': 'bad', 'states_seen': 45, 'age': 29, 'weight': 250}\n",
      "{'first': 'Dylan', 'last': 'Smith', 'Number of Showerd this year': 3, 'taste_in_music': 'bad', 'states_seen': 45, 'age': 29, 'weight': 250}\n"
     ]
    }
   ],
   "source": [
    "ds = {\n",
    "    'first': 'Dylan',\n",
    "    'last': 'Smith',\n",
    "    'Number of Showerd this year': 2,\n",
    "    'taste_in_music': 'bad',\n",
    "    'states_seen': 45,\n",
    "    \n",
    "}\n",
    "\n",
    "ds.update({\"age\": 29})\n",
    "print(ds)\n",
    "ds.update(weight=250)\n",
    "print(ds)\n",
    "\n",
    "#Use .update() to merge two dictionaries\n",
    "\n",
    "ds[\"Number of Showerd this year\"] += 1\n",
    "print(ds)"
   ]
  },
  {
   "cell_type": "code",
   "execution_count": null,
   "metadata": {},
   "outputs": [],
   "source": [
    "ds = {\n",
    "    'first': 'Dylan',\n",
    "    'last': 'Smith',\n",
    "    'Number of Showerd this year': 2,\n",
    "    'taste_in_music': 'bad',\n",
    "    'states_seen': 45,\n",
    "    \n",
    "}\n",
    "\n",
    "print({**ds})"
   ]
  },
  {
   "cell_type": "code",
   "execution_count": null,
   "metadata": {},
   "outputs": [],
   "source": [
    "def test_function(x, y, z):\n",
    "    print('x is ', x)\n",
    "    print('y is ', y)\n",
    "    print('z is ', z)\n",
    "    \n",
    "test_function(1,2,3)\n",
    "\n",
    "my_params={\n",
    "    'x':1,\n",
    "    'y':2,\n",
    "    'z':3\n",
    "    \n",
    "}\n",
    "\n",
    "test_function(**my_params)"
   ]
  },
  {
   "cell_type": "markdown",
   "metadata": {},
   "source": [
    "##### Removing Key, Value Pairs"
   ]
  },
  {
   "cell_type": "code",
   "execution_count": null,
   "metadata": {},
   "outputs": [],
   "source": [
    "ds = {\n",
    "    'first': 'Dylan',\n",
    "    'last': 'Smith',\n",
    "    'Number of Showerd this year': 2,\n",
    "    'taste_in_music': 'bad',\n",
    "    'states_seen': 45,\n",
    "    \n",
    "}\n",
    "\n",
    "del ds['taste_in_music']\n",
    "print(ds)"
   ]
  },
  {
   "cell_type": "markdown",
   "metadata": {},
   "source": [
    "##### Looping a Dictionary"
   ]
  },
  {
   "cell_type": "code",
   "execution_count": null,
   "metadata": {},
   "outputs": [],
   "source": [
    "# .items()\n",
    "# a, b, c = 1, 2, 3\n",
    "# print(a)\n",
    "# print(b)\n",
    "# print(c)\n",
    "for key in ds:\n",
    "    print(key, end=\" \")\n",
    "    print(ds[key])\n",
    "\n",
    "for key; value in ds:\n",
    "    print(key)\n",
    "    print(value)"
   ]
  },
  {
   "cell_type": "markdown",
   "metadata": {},
   "source": [
    "##### Looping Only Keys"
   ]
  },
  {
   "cell_type": "code",
   "execution_count": null,
   "metadata": {},
   "outputs": [],
   "source": [
    "# .keys() JUST DO IT ^THIS WAY\n",
    "for key in ds.keys():\n",
    "    print(key)\n"
   ]
  },
  {
   "cell_type": "markdown",
   "metadata": {},
   "source": [
    "##### Looping Only Values"
   ]
  },
  {
   "cell_type": "code",
   "execution_count": null,
   "metadata": {
    "scrolled": true
   },
   "outputs": [],
   "source": [
    "# .values()\n",
    "for value in ds.values():\n",
    "    print(value)\n"
   ]
  },
  {
   "cell_type": "code",
   "execution_count": null,
   "metadata": {},
   "outputs": [],
   "source": [
    "# .items() creates a list of tuples containing the key values\n",
    "\n",
    "print(ds.items())\n",
    "\n",
    "for k, v in ds.items():\n",
    "    print(k)\n",
    "    print(v)\n"
   ]
  },
  {
   "cell_type": "markdown",
   "metadata": {},
   "source": [
    "## In-Class Exercise #2 - Create a Function that Prints All Key Value Pairs within a print .format() <br>\n",
    "<p><b>Output should be:</b><br>\n",
    "Max has blue eyes<br>\n",
    "Lilly has brown eyes<br>\n",
    "Barney has blue eyes<br>\n",
    "etc.\n",
    "</p>"
   ]
  },
  {
   "cell_type": "code",
   "execution_count": null,
   "metadata": {},
   "outputs": [],
   "source": [
    "# use the dict below\n",
    "\n",
    "people = {\n",
    "    'Max': 'blue',\n",
    "    'Lilly': 'brown',\n",
    "    'Barney': 'blue',\n",
    "    'Larney': 'brown',\n",
    "    'Ted': 'purple'\n",
    "}\n",
    "\n",
    "\n",
    "for person, color in people.items():\n",
    "    print(f'{person} has {color} eyes.')\n",
    "\n"
   ]
  },
  {
   "cell_type": "markdown",
   "metadata": {},
   "source": [
    "##### sorted()"
   ]
  },
  {
   "cell_type": "code",
   "execution_count": null,
   "metadata": {},
   "outputs": [],
   "source": [
    "# sorts variables in order\n",
    "# sorted(dict.values()) or dict.keys() or dict.items()\n",
    "people = {\n",
    "    'Max': 'blue',\n",
    "    'Lilly': 'brown',\n",
    "    'Barney': 'blue',\n",
    "    'Larney': 'brown',\n",
    "    'Ted': 'purple'\n",
    "}\n",
    "print(sorted(people)) #Defaults to sort by key\n",
    "print(sorted(people.values()))\n",
    "print(sorted(people.items())) #This give you the Tuple pair, and sorts based on Keys\n"
   ]
  },
  {
   "cell_type": "markdown",
   "metadata": {},
   "source": [
    "##### List with Dictionaries"
   ]
  },
  {
   "cell_type": "code",
   "execution_count": null,
   "metadata": {},
   "outputs": [],
   "source": [
    "names = ['Shayne', 'Andre', 'Ola', 'Katina', {'random_guy': 'Steven', 'another_guy': 'Travis'}]\n",
    "print(names)\n",
    "\n",
    "print(names[4])\n",
    "print(names[4]['random_guy'])"
   ]
  },
  {
   "cell_type": "markdown",
   "metadata": {},
   "source": [
    "##### Dictionaries with Lists"
   ]
  },
  {
   "cell_type": "code",
   "execution_count": null,
   "metadata": {},
   "outputs": [],
   "source": [
    "# be careful when using numbers as keys in dictionaries, don't confuse them with indexes\n",
    "\n",
    "all_items=[\n",
    "    {\"name\": \"Item A\", 'price': 2.99, 'desc': 'a jolly good item'},\n",
    "    {\"name\": \"Item B\", 'price': 10.99, 'desc': 'a waste of money'},\n",
    "    {\"name\": \"Item C\", 'price': 0.99, 'desc': 'too cheap to use'}\n",
    "]\n",
    "\n",
    "for item in all_items:\n",
    "    print('=========')\n",
    "    print(f'Item name: {item[\"name\"]} is priced at {item[\"price\"]} and is {item[\"desc\"]}')\n",
    "    print('=========')\n",
    "    "
   ]
  },
  {
   "cell_type": "code",
   "execution_count": null,
   "metadata": {},
   "outputs": [],
   "source": [
    "d5={\n",
    "    'first':'Jody',\n",
    "    'last': 'Sheffield',\n",
    "    'ice_cream': {'praline': True, \n",
    "                  'tonight_dough': True, \n",
    "                  'mint': False},\n",
    "}\n",
    "\n",
    "print(f'{d5[\"ice_cream\"][\"praline\"]}')\n",
    "\n",
    "d5['cars'][1]['name']\n",
    "\n",
    "for car_dictionary in d5['cars']:\n",
    "    print(car_dictionary['year'])\n",
    "    \n",
    "    jody does like\n",
    "    \n",
    "    for falvor, likes in d5['icecream'].items():\n",
    "        if likes:\n",
    "            print('Jody ')\n",
    "        \n",
    "for element in d5['cars']:\n",
    "    print(f\"Jody has a {element['year']} {element['name']})\n",
    "\n",
    "    \n",
    "    \n"
   ]
  },
  {
   "cell_type": "markdown",
   "metadata": {},
   "source": [
    "##### Dictionaries with Dictionaries"
   ]
  },
  {
   "cell_type": "code",
   "execution_count": null,
   "metadata": {},
   "outputs": [],
   "source": [
    "# to get values, must traverse through keys\n",
    "\n"
   ]
  },
  {
   "cell_type": "markdown",
   "metadata": {},
   "source": [
    "## Dictionaries vs. Lists (over time) Example of RUNTIME\n",
    "### When inputting values in a Dictionary vs List"
   ]
  },
  {
   "cell_type": "code",
   "execution_count": null,
   "metadata": {},
   "outputs": [],
   "source": [
    "import time\n",
    "\n",
    "\n",
    "# generate fake dictionary\n",
    "d = {}\n",
    "\n",
    "for i in range(10000000):\n",
    "    d[i] = 'value'\n",
    "    \n",
    "\n",
    "# generate fake list\n",
    "big_list = [x for x in range(10000000)]"
   ]
  },
  {
   "cell_type": "code",
   "execution_count": null,
   "metadata": {},
   "outputs": [],
   "source": [
    "# tracking time for dictionary\n",
    "start_time = time.time()\n",
    "\n",
    "print(d[9999999])\n",
    "\n",
    "end_time = time.time() - start_time\n",
    "\n",
    "print('Elapsed time for dictionary: {}'.format(end_time))\n",
    "\n",
    "\n",
    "# tracking time for list\n",
    "start_time = time.time()\n",
    "\n",
    "for i in range(len(big_list)):\n",
    "    if i == 9999999:\n",
    "        print(i)\n",
    "\n",
    "end_time = time.time() - start_time\n",
    "\n",
    "print('Elapsed time for list: {}'.format(end_time))"
   ]
  },
  {
   "cell_type": "markdown",
   "metadata": {},
   "source": [
    "## Exercise #3 - Write a Function that asks someone's name and address, and then stores that into a dictionary, and continues to do so until they choose to 'quit'. Once they quit, the program should print all names and addresses. <br>\n",
    "<p>\n",
    "<b>Proper steps:</b><br>\n",
    "step 1: write a function that takes in information and stores it in a dictionary<br>\n",
    "step 2: define an empty dictionary to work with<br>\n",
    "step 3: create our loop, which asks the user for information until they quit<br>\n",
    "step 4: ask for the information, and store it into variables<br>\n",
    "step 5: check if the user types quit<br>\n",
    "step 5a: print out all information<br>\n",
    "step 5b: break out of the loop<br>\n",
    "step 6: if they didn't quit, add the information to the dictionary<br>\n",
    "step 7: invoke the function by calling it\n",
    "</p>"
   ]
  },
  {
   "cell_type": "code",
   "execution_count": null,
   "metadata": {},
   "outputs": [],
   "source": [
    "from IPython.display import clear_output\n",
    "\n",
    "def name_and_adress():\n",
    "    print(\"You may quit at any time by responding 'quit' to any question\")\n",
    "    active = True\n",
    "    a_dict = {}\n",
    "    while active:\n",
    "        name = input(\"What's your name?: \")\n",
    "        if name == 'quit':\n",
    "            active = False\n",
    "        if active:\n",
    "            addy = input(f\"Where do you live {name}? \")\n",
    "            if addy == 'quit':\n",
    "                active = False\n",
    "        if active:\n",
    "            a_dict[name] = addy\n",
    "        else:\n",
    "            for name, addy in a_dict.items():\n",
    "                print(f\"\\n{name} lives at {addy}\")\n",
    "\n",
    "name_and_adress()\n"
   ]
  },
  {
   "cell_type": "markdown",
   "metadata": {},
   "source": [
    "## Set <br>\n",
    "<p>A Set is an unordered collection data type that is iterable (loop), mutable, and has no duplicate elements.<br>Major advantage is that it is highly optimized in checking if something is in the set, as opposed to checking if something is in a list.</p>"
   ]
  },
  {
   "cell_type": "markdown",
   "metadata": {},
   "source": [
    "##### Declaring"
   ]
  },
  {
   "cell_type": "code",
   "execution_count": null,
   "metadata": {},
   "outputs": [],
   "source": [
    "# set() or {}\n",
    "# no order {3, 2, 1} outputs as {1, 2, 3}\n",
    "\n",
    "my_set = {3,3,3,3,3,3,3,2,2,2,2,2,2,2,2,1,1,1,1,}\n",
    "print(my_set)\n",
    "\n",
    "my_set = set()\n",
    "print(type(my_set)) #returns set\n",
    "\n",
    "my_set = {}\n",
    "print(type(my_set)) #returns dictionary\n",
    "\n",
    "#Can't index through a set\n",
    "my_set = {3,3,3,3,3,3,3,2,2,2,2,2,2,2,2,1,1,1,1,}\n",
    "# print(my_set[1])"
   ]
  },
  {
   "cell_type": "code",
   "execution_count": null,
   "metadata": {},
   "outputs": [],
   "source": [
    "print('c' in ['a','b','c']) #slow\n",
    "\n",
    "print('c' in {'a','b','c'}) #Fast"
   ]
  },
  {
   "cell_type": "markdown",
   "metadata": {},
   "source": [
    "##### .add()"
   ]
  },
  {
   "cell_type": "code",
   "execution_count": null,
   "metadata": {},
   "outputs": [],
   "source": [
    "# set.add()\n",
    "my_set={'A','B','C'}\n",
    "my_set.add(\"D\")\n",
    "print(my_set)\n",
    "my_set.add(\"A\") #Can't add duplicates\n",
    "print(my_set)"
   ]
  },
  {
   "cell_type": "markdown",
   "metadata": {},
   "source": [
    "##### .remove()"
   ]
  },
  {
   "cell_type": "code",
   "execution_count": null,
   "metadata": {},
   "outputs": [],
   "source": [
    "# removes by value\n",
    "# set.remove()\n",
    "# nums.remove(56)\n",
    "\n",
    "my_set={'A','B','C'}\n",
    "my_set.remove(\"B\")\n",
    "print(my_set)"
   ]
  },
  {
   "cell_type": "markdown",
   "metadata": {},
   "source": [
    "##### .discard()"
   ]
  },
  {
   "cell_type": "code",
   "execution_count": null,
   "metadata": {},
   "outputs": [],
   "source": [
    "my_set={'A','B','C'}\n",
    "my_set.discard(\"D\")\n",
    "print(my_set)\n",
    "\n",
    "# Saves you from errors if you try to discard something without knowing if its in there"
   ]
  },
  {
   "cell_type": "markdown",
   "metadata": {},
   "source": [
    "##### .union() "
   ]
  },
  {
   "cell_type": "code",
   "execution_count": null,
   "metadata": {},
   "outputs": [],
   "source": [
    "## Returns a union of two sets, can also use '|' or set.union(set)\n",
    "# joins all numbers, gets rid of duplicates\n",
    "\n",
    "set1 = {1,2,3,4}\n",
    "set2 = {3,4,5,6} #Notice the overlap of 3,4\n",
    "\n",
    "print(set1.union(set2))\n",
    "print(set2.union(set1)) #sets don't care about order\n",
    "\n",
    "#can also\n",
    "\n",
    "set1 | set2\n"
   ]
  },
  {
   "cell_type": "markdown",
   "metadata": {},
   "source": [
    "##### .intersection()"
   ]
  },
  {
   "cell_type": "code",
   "execution_count": null,
   "metadata": {},
   "outputs": [],
   "source": [
    "# Returns an intersection of two sets, can also use '&'\n",
    "# only takes similar elements from both sets\n",
    "\n",
    "set1 = {1,2,3,4}\n",
    "set2 = {3,4,5,6}\n",
    "\n",
    "set1.intersection(set2) #Gives you the overlap between two sets\n"
   ]
  },
  {
   "cell_type": "markdown",
   "metadata": {},
   "source": [
    "##### .difference()"
   ]
  },
  {
   "cell_type": "code",
   "execution_count": null,
   "metadata": {},
   "outputs": [],
   "source": [
    "# Returns a set containing all the elements of invoking set that are not in the second set, can also use '-'\n",
    "# only takes values from the first set that are not in the second set\n",
    "# order matters\n",
    "\n",
    "set1 = {1,2,3,4}\n",
    "set2 = {3,4,5,6}\n",
    "\n",
    "#Gives you the contents that the first list has that the other does not.\n",
    "\n",
    "print(set1.difference(set2))\n",
    "print(set2.difference(set1))\n",
    "\n"
   ]
  },
  {
   "cell_type": "markdown",
   "metadata": {},
   "source": [
    "##### .clear()"
   ]
  },
  {
   "cell_type": "code",
   "execution_count": 2,
   "metadata": {},
   "outputs": [],
   "source": [
    "# Empties the whole set\n",
    "# set.clear()\n",
    "\n"
   ]
  },
  {
   "cell_type": "markdown",
   "metadata": {},
   "source": [
    "##### Frozenset <br>\n",
    "<p>Frozen sets are immutable objects that only support methods and operators that produce a result without affecting the frozen set or sets to which they are applied.</p><br><b>Unique & Immutable</b>"
   ]
  },
  {
   "cell_type": "code",
   "execution_count": 3,
   "metadata": {},
   "outputs": [
    {
     "name": "stdout",
     "output_type": "stream",
     "text": [
      "frozenset({1, 2, 3, 4, 5, 6})\n"
     ]
    }
   ],
   "source": [
    "# frozenset([])\n",
    "\n",
    "s3 = {1,2,3,4,5,6}\n",
    "s_frozen = frozenset(s3)\n",
    "print(s_frozen)\n"
   ]
  },
  {
   "cell_type": "markdown",
   "metadata": {},
   "source": [
    "## Modules"
   ]
  },
  {
   "cell_type": "markdown",
   "metadata": {},
   "source": [
    "##### Importing Entire Modules"
   ]
  },
  {
   "cell_type": "code",
   "execution_count": 4,
   "metadata": {},
   "outputs": [
    {
     "name": "stdout",
     "output_type": "stream",
     "text": [
      "3.141592653589793\n",
      "3\n"
     ]
    }
   ],
   "source": [
    "# import or from 'xxx' import *\n",
    "import math\n",
    "\n",
    "# A bunch of math fuctions can be imported if you need them\n",
    "print(math.pi)\n",
    "print(math.ceil(5/2))\n",
    "\n"
   ]
  },
  {
   "cell_type": "markdown",
   "metadata": {},
   "source": [
    "##### Importing Methods Only"
   ]
  },
  {
   "cell_type": "code",
   "execution_count": 5,
   "metadata": {},
   "outputs": [
    {
     "name": "stdout",
     "output_type": "stream",
     "text": [
      "3.141592653589793\n"
     ]
    }
   ],
   "source": [
    "# from 'xxx' import 'xxx'\n",
    "from math import pi, ceil # just imports functions ciel, and pi\n",
    "\n",
    "print(pi)\n",
    "\n",
    "\n"
   ]
  },
  {
   "cell_type": "markdown",
   "metadata": {},
   "source": [
    "##### Using the 'as' Keyword"
   ]
  },
  {
   "cell_type": "code",
   "execution_count": 6,
   "metadata": {},
   "outputs": [
    {
     "name": "stdout",
     "output_type": "stream",
     "text": [
      "3.141592653589793\n"
     ]
    }
   ],
   "source": [
    "# from 'xxx' import 'xxx' as 'xxx' or import 'xxx' as 'xxx'\n",
    "from math import pi as newpi #Gives the function an alias\n",
    "\n",
    "\n",
    "\n",
    "\n",
    "print(newpi)\n"
   ]
  },
  {
   "cell_type": "code",
   "execution_count": 7,
   "metadata": {},
   "outputs": [
    {
     "name": "stdout",
     "output_type": "stream",
     "text": [
      "{1: 3, 2: 2, 3: 4, 4: 1, 5: 2}\n"
     ]
    }
   ],
   "source": [
    "my_list=[1,1,1,2,3,4,2,3,3,3,5,5]\n",
    "my_counts={}\n",
    "for i in my_list:\n",
    "    my_counts[i] = my_counts.get(i,0)+1\n",
    "print(my_counts)\n",
    "\n",
    "\n"
   ]
  },
  {
   "cell_type": "code",
   "execution_count": 8,
   "metadata": {},
   "outputs": [
    {
     "name": "stdout",
     "output_type": "stream",
     "text": [
      "Counter({3: 4, 1: 3, 2: 2, 5: 2, 4: 1})\n"
     ]
    }
   ],
   "source": [
    "from collections import Counter\n",
    "\n",
    "my_list=[1,1,1,2,3,4,2,3,3,3,5,5]\n",
    "print(Counter(my_list))"
   ]
  },
  {
   "cell_type": "markdown",
   "metadata": {},
   "source": [
    "##### Creating a Module"
   ]
  },
  {
   "cell_type": "code",
   "execution_count": null,
   "metadata": {},
   "outputs": [],
   "source": []
  },
  {
   "cell_type": "markdown",
   "metadata": {},
   "source": [
    "# Exercises"
   ]
  },
  {
   "cell_type": "markdown",
   "metadata": {},
   "source": [
    "### 1) Build a Shopping Cart <br>\n",
    "<p><b>You can use either lists or dictionaries. The program should have the following capabilities:</b><br><br>\n",
    "1) Takes in input <br>\n",
    "2) Stores user input into a dictionary or list <br>\n",
    "3) The User can add or delete items <br>\n",
    "4) The User can see current shopping list <br>\n",
    "5) The program Loops until user 'quits' <br>\n",
    "6) Upon quiting the program, print out all items in the user's list <br>\n",
    "</p>"
   ]
  },
  {
   "cell_type": "code",
   "execution_count": 1,
   "metadata": {},
   "outputs": [
    {
     "name": "stdout",
     "output_type": "stream",
     "text": [
      "\n",
      "Would you like to see/add/delete or checkout: add\n",
      "\n",
      "To stop adding type: 'quit'\n",
      "\n",
      "What would you like to add? apple\n",
      "\n",
      "What would you like to add? apple\n",
      "\n",
      "What would you like to add? apple\n",
      "\n",
      "What would you like to add? cuccumber\n",
      "\n",
      "What would you like to add? cuccumber\n",
      "\n",
      "What would you like to add? quit\n",
      "\n",
      "Would you like to see/add/delete or checkout: see\n",
      "Your Shopping list: \n",
      "Apple [3]\n",
      "Cuccumber [2]\n",
      "\n",
      "Would you like to see/add/delete or checkout: checkout\n",
      "That will be: $17.59\n",
      "\n",
      "Last Call: Edit or Continue Edit\n",
      "\n",
      "Would you like to see/add/delete or checkout: checkout\n",
      "That will be: $17.59\n",
      "\n",
      "Last Call: Edit or Continue continue\n",
      "Thank you for Shopping with Us!\n"
     ]
    }
   ],
   "source": [
    "from IPython.display import clear_output\n",
    "\n",
    "# Ask the user four bits of input: Do you want to : Show/Add/Delete or Quit?\n",
    "my_list = {}\n",
    "\n",
    "def add_item():\n",
    "    shopping = True\n",
    "    print(\"\\nTo stop adding type: 'quit'\")\n",
    "    while shopping:\n",
    "        item = input('\\nWhat would you like to add? ')\n",
    "        item = item.lower()\n",
    "        if item != 'quit':\n",
    "            if item not in my_list:\n",
    "                my_list[item] = 1\n",
    "            else:\n",
    "                my_list[item] += 1\n",
    "        else:\n",
    "            shopping = False\n",
    "\n",
    "def del_item():\n",
    "    deleting = True\n",
    "    print(\"To stop deleting type: 'quit'\")\n",
    "    while deleting:\n",
    "        item = input('\\nWhat would you like to remove? ')\n",
    "        item = item.lower()\n",
    "        if item == 'quit':\n",
    "            deleting = False\n",
    "            print('\\nItem(s) removed')\n",
    "        else:\n",
    "            if item not in my_list:\n",
    "                print('\\nMaybe try deleting somthing you actually have....moron')\n",
    "            else:\n",
    "                my_list[item] -= 1\n",
    "                if item == 0:\n",
    "                    del my_list[item]\n",
    "\n",
    "def show_list():\n",
    "    print(\"Your Shopping list: \")\n",
    "    for item, quant in my_list.items():\n",
    "        print(f\"{item.title()} [{quant}]\")\n",
    "\n",
    "def get_price():\n",
    "    price = 0\n",
    "    for item, quant in my_list.items():\n",
    "        if item[0] == 'a' or item[0] == 'b':\n",
    "            price += (2.75 * quant)\n",
    "        elif item[0] == 'c' or item[0] == 'd':\n",
    "            price += (4.67 * quant)\n",
    "        elif item[0] == 'e' or item[0] == 'f':\n",
    "            price += (8.92 * quant)\n",
    "        elif item[0] == 'g' or item[0] == 'h':\n",
    "            price += (10.34 * quant)\n",
    "        elif item[0] == 'i' or item[0] == 'j':\n",
    "            price += (11.97 * quant)\n",
    "        elif item[0] == 'k' or item[0] == 'l':\n",
    "            price += (1.40 * quant)\n",
    "        elif item[0] == 'm' or item[0] == 'n':\n",
    "            price += (8.90 * quant)  \n",
    "        elif item[0] == 'o' or item[0] == 'p':\n",
    "            price += (15.67 * quant)     \n",
    "        elif item[0] == 'q' or item[0] == 'r':\n",
    "            price += (20.67 * quant)     \n",
    "        elif item[0] == 's' or item[0] == 't':\n",
    "            price += (12.67 * quant)     \n",
    "        elif item[0] == 'u' or item[0] == 'v':\n",
    "            price += (18.92 * quant)     \n",
    "        elif item[0] == 'w' or item[0] == 'x':\n",
    "            price += (7.61 * quant) \n",
    "        elif item[0] == 'y' or item[0] == 'z':\n",
    "            price += (3.80 * quant)              \n",
    "    return price\n",
    "        \n",
    "\n",
    "\n",
    "\n",
    "def shop_list():\n",
    "    shopping = True\n",
    "    while shopping:\n",
    "        do = input('\\nWould you like to see/add/delete or checkout: ')\n",
    "        if do == 'add':\n",
    "            add_item()\n",
    "        elif do == 'delete':\n",
    "            del_item()\n",
    "        elif do == 'see':\n",
    "            show_list()\n",
    "        elif do == 'checkout':\n",
    "            print(\"That will be: $\", get_price(), sep='')\n",
    "            last_call = input('\\nLast Call: Edit or Continue ')\n",
    "            if last_call.lower() == 'continue':\n",
    "                print(\"Thank you for Shopping with Us!\")\n",
    "                shopping = False\n",
    "\n",
    "\n",
    "shop_list()"
   ]
  },
  {
   "cell_type": "markdown",
   "metadata": {},
   "source": [
    "### 2) Create a Module in VS Code and Import It into jupyter notebook <br>\n",
    "<p><b>Module should have the following capabilities:</b><br><br>\n",
    "1) Has a function to calculate the square footage of a house <br>\n",
    "    <b>Reminder of Formula: Length X Width == Area<br>\n",
    "        <hr>\n",
    "2) Has a function to calculate the circumference of a circle <br><br>\n",
    "<b>Program in Jupyter Notebook should take in user input and use imported functions to calculate a circle's circumference or a houses square footage</b>\n",
    "</p>"
   ]
  },
  {
   "cell_type": "code",
   "execution_count": 10,
   "metadata": {},
   "outputs": [
    {
     "name": "stdout",
     "output_type": "stream",
     "text": [
      "Dylan Katina\n",
      "What is your house's length in feet? 120\n",
      "What is your house's width in feet? 420\n",
      "Your houses are is 50400 square feet\n",
      "Do you know your circles Radius or Diameter?: radius\n",
      "How many units is your radius? 10\n",
      "Your circumferenceis 62.83185307179586 units\n"
     ]
    }
   ],
   "source": [
    "import dylan_mod\n",
    "\n",
    "dylan_mod.favorite_student()\n",
    "\n",
    "dylan_mod.square_footage()\n",
    "\n",
    "dylan_mod.circum() \n"
   ]
  },
  {
   "cell_type": "code",
   "execution_count": null,
   "metadata": {},
   "outputs": [],
   "source": []
  }
 ],
 "metadata": {
  "kernelspec": {
   "display_name": "Python 3 (ipykernel)",
   "language": "python",
   "name": "python3"
  },
  "language_info": {
   "codemirror_mode": {
    "name": "ipython",
    "version": 3
   },
   "file_extension": ".py",
   "mimetype": "text/x-python",
   "name": "python",
   "nbconvert_exporter": "python",
   "pygments_lexer": "ipython3",
   "version": "3.9.12"
  },
  "vscode": {
   "interpreter": {
    "hash": "c48e784580535a0043e835f347c242c3ba8d520cc19d6dd73066c5c113ac8a1a"
   }
  }
 },
 "nbformat": 4,
 "nbformat_minor": 2
}
